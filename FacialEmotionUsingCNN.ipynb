{
 "cells": [
  {
   "cell_type": "code",
   "execution_count": 1,
   "id": "6cca31b2",
   "metadata": {},
   "outputs": [],
   "source": [
    "#required packages and libraries\n",
    "\n",
    "import tensorflow as tf\n",
    "from keras.models import Sequential\n",
    "from keras.layers import Conv2D, BatchNormalization, MaxPooling2D, Dense, Dropout, Flatten\n",
    "from tensorflow.keras.optimizers import Adam\n",
    "from keras.preprocessing.image import ImageDataGenerator"
   ]
  },
  {
   "cell_type": "code",
   "execution_count": 2,
   "id": "2d4a633a",
   "metadata": {},
   "outputs": [
    {
     "name": "stdout",
     "output_type": "stream",
     "text": [
      "Found 28709 images belonging to 7 classes.\n",
      "Found 7178 images belonging to 7 classes.\n"
     ]
    }
   ],
   "source": [
    "#initialize image data with rescaling:   0<=I(i,j)<=1\n",
    "train_data_gen = ImageDataGenerator(1./255)\n",
    "teste_data_gen = ImageDataGenerator(1./255)\n",
    "\n",
    "#Preprocess all train images \n",
    "train_dataGen = train_data_gen.flow_from_directory('data/train', target_size=(48, 48), \n",
    "                                                    color_mode='grayscale', class_mode='categorical')\n",
    "#Preprocess all test images\n",
    "teste_dataGen = teste_data_gen.flow_from_directory('data/test', target_size=(48, 48), \n",
    "                                                    color_mode='grayscale', class_mode='categorical')\n"
   ]
  },
  {
   "cell_type": "code",
   "execution_count": 5,
   "id": "f787942a",
   "metadata": {},
   "outputs": [
    {
     "name": "stdout",
     "output_type": "stream",
     "text": [
      "Model: \"sequential_2\"\n",
      "_________________________________________________________________\n",
      " Layer (type)                Output Shape              Param #   \n",
      "=================================================================\n",
      " conv2d_7 (Conv2D)           (None, 46, 46, 64)        640       \n",
      "                                                                 \n",
      " batch_normalization_7 (Batc  (None, 46, 46, 64)       256       \n",
      " hNormalization)                                                 \n",
      "                                                                 \n",
      " max_pooling2d_5 (MaxPooling  (None, 23, 23, 64)       0         \n",
      " 2D)                                                             \n",
      "                                                                 \n",
      " dropout_5 (Dropout)         (None, 23, 23, 64)        0         \n",
      "                                                                 \n",
      " conv2d_8 (Conv2D)           (None, 21, 21, 128)       73856     \n",
      "                                                                 \n",
      " batch_normalization_8 (Batc  (None, 21, 21, 128)      512       \n",
      " hNormalization)                                                 \n",
      "                                                                 \n",
      " max_pooling2d_6 (MaxPooling  (None, 10, 10, 128)      0         \n",
      " 2D)                                                             \n",
      "                                                                 \n",
      " dropout_6 (Dropout)         (None, 10, 10, 128)       0         \n",
      "                                                                 \n",
      " conv2d_9 (Conv2D)           (None, 8, 8, 256)         295168    \n",
      "                                                                 \n",
      " batch_normalization_9 (Batc  (None, 8, 8, 256)        1024      \n",
      " hNormalization)                                                 \n",
      "                                                                 \n",
      " max_pooling2d_7 (MaxPooling  (None, 4, 4, 256)        0         \n",
      " 2D)                                                             \n",
      "                                                                 \n",
      " dropout_7 (Dropout)         (None, 4, 4, 256)         0         \n",
      "                                                                 \n",
      " conv2d_10 (Conv2D)          (None, 2, 2, 512)         1180160   \n",
      "                                                                 \n",
      " batch_normalization_10 (Bat  (None, 2, 2, 512)        2048      \n",
      " chNormalization)                                                \n",
      "                                                                 \n",
      " max_pooling2d_8 (MaxPooling  (None, 1, 1, 512)        0         \n",
      " 2D)                                                             \n",
      "                                                                 \n",
      " dropout_8 (Dropout)         (None, 1, 1, 512)         0         \n",
      "                                                                 \n",
      " flatten (Flatten)           (None, 512)               0         \n",
      "                                                                 \n",
      " dense (Dense)               (None, 1024)              525312    \n",
      "                                                                 \n",
      " dropout_9 (Dropout)         (None, 1024)              0         \n",
      "                                                                 \n",
      " dense_1 (Dense)             (None, 7)                 7175      \n",
      "                                                                 \n",
      "=================================================================\n",
      "Total params: 2,086,151\n",
      "Trainable params: 2,084,231\n",
      "Non-trainable params: 1,920\n",
      "_________________________________________________________________\n"
     ]
    }
   ],
   "source": [
    "model_cnn = Sequential()\n",
    "\n",
    "model_cnn.add(Conv2D(64, kernel_size=(3, 3), activation='relu', input_shape=(48, 48, 1)))\n",
    "model_cnn.add(BatchNormalization())\n",
    "model_cnn.add(MaxPooling2D(pool_size=(2, 2)))\n",
    "model_cnn.add(Dropout(0.1))\n",
    "\n",
    "model_cnn.add(Conv2D(128, kernel_size=(3, 3), activation='relu'))\n",
    "model_cnn.add(BatchNormalization())\n",
    "model_cnn.add(MaxPooling2D(pool_size=(2, 2)))\n",
    "model_cnn.add(Dropout(0.1))\n",
    "\n",
    "model_cnn.add(Conv2D(256, kernel_size=(3, 3), activation='relu'))\n",
    "model_cnn.add(BatchNormalization())\n",
    "model_cnn.add(MaxPooling2D(pool_size=(2, 2)))\n",
    "model_cnn.add(Dropout(0.1))\n",
    "\n",
    "\n",
    "model_cnn.add(Conv2D(512, kernel_size=(3, 3), activation='relu'))\n",
    "model_cnn.add(BatchNormalization())\n",
    "model_cnn.add(MaxPooling2D(pool_size=(2, 2)))\n",
    "model_cnn.add(Dropout(0.1))\n",
    "\n",
    "\n",
    "model_cnn.add(Flatten())\n",
    "model_cnn.add(Dense(1024, activation='relu'))\n",
    "model_cnn.add(Dropout(0.2))\n",
    "model_cnn.add(Dense(7, activation='softmax'))\n",
    "\n",
    "################################\n",
    "model_cnn.summary()\n"
   ]
  },
  {
   "cell_type": "code",
   "execution_count": 6,
   "id": "eb6b244d",
   "metadata": {},
   "outputs": [],
   "source": [
    "model_cnn.compile(optimizer=Adam(learning_rate=0.0001, decay=1e-6), loss='categorical_crossentropy', metrics=['accuracy'])"
   ]
  },
  {
   "cell_type": "code",
   "execution_count": 7,
   "id": "819b2d6b",
   "metadata": {},
   "outputs": [
    {
     "name": "stderr",
     "output_type": "stream",
     "text": [
      "C:\\Users\\pc\\anaconda3\\lib\\site-packages\\keras_preprocessing\\image\\image_data_generator.py:720: UserWarning: This ImageDataGenerator specifies `featurewise_center`, but it hasn't been fit on any training data. Fit it first by calling `.fit(numpy_data)`.\n",
      "  warnings.warn('This ImageDataGenerator specifies '\n"
     ]
    },
    {
     "name": "stdout",
     "output_type": "stream",
     "text": [
      "Epoch 1/30\n",
      "448/448 [==============================] - 167s 368ms/step - loss: 1.8931 - accuracy: 0.2975 - val_loss: 1.5820 - val_accuracy: 0.3856\n",
      "Epoch 2/30\n",
      "448/448 [==============================] - 105s 234ms/step - loss: 1.6090 - accuracy: 0.3869 - val_loss: 1.5541 - val_accuracy: 0.3970\n",
      "Epoch 3/30\n",
      "448/448 [==============================] - 96s 215ms/step - loss: 1.4778 - accuracy: 0.4334 - val_loss: 1.3635 - val_accuracy: 0.4735\n",
      "Epoch 4/30\n",
      "448/448 [==============================] - 107s 238ms/step - loss: 1.4012 - accuracy: 0.4669 - val_loss: 1.3414 - val_accuracy: 0.4863\n",
      "Epoch 5/30\n",
      "448/448 [==============================] - 107s 238ms/step - loss: 1.3299 - accuracy: 0.4940 - val_loss: 1.3265 - val_accuracy: 0.4874\n",
      "Epoch 6/30\n",
      "448/448 [==============================] - 106s 237ms/step - loss: 1.2778 - accuracy: 0.5149 - val_loss: 1.2556 - val_accuracy: 0.5181\n",
      "Epoch 7/30\n",
      "448/448 [==============================] - 106s 236ms/step - loss: 1.2269 - accuracy: 0.5378 - val_loss: 1.2095 - val_accuracy: 0.5352\n",
      "Epoch 8/30\n",
      "448/448 [==============================] - 105s 234ms/step - loss: 1.1745 - accuracy: 0.5560 - val_loss: 1.1781 - val_accuracy: 0.5592\n",
      "Epoch 9/30\n",
      "448/448 [==============================] - 105s 233ms/step - loss: 1.1280 - accuracy: 0.5777 - val_loss: 1.1858 - val_accuracy: 0.5407\n",
      "Epoch 10/30\n",
      "448/448 [==============================] - 105s 235ms/step - loss: 1.0956 - accuracy: 0.5956 - val_loss: 1.1792 - val_accuracy: 0.5494\n",
      "Epoch 11/30\n",
      "448/448 [==============================] - 105s 234ms/step - loss: 1.0577 - accuracy: 0.6049 - val_loss: 1.1896 - val_accuracy: 0.5558\n",
      "Epoch 12/30\n",
      "448/448 [==============================] - 105s 234ms/step - loss: 1.0191 - accuracy: 0.6207 - val_loss: 1.1639 - val_accuracy: 0.5569\n",
      "Epoch 13/30\n",
      "448/448 [==============================] - 106s 236ms/step - loss: 0.9735 - accuracy: 0.6378 - val_loss: 1.1246 - val_accuracy: 0.5781\n",
      "Epoch 14/30\n",
      "448/448 [==============================] - 105s 235ms/step - loss: 0.9301 - accuracy: 0.6569 - val_loss: 1.1312 - val_accuracy: 0.5767\n",
      "Epoch 15/30\n",
      "448/448 [==============================] - 106s 236ms/step - loss: 0.9023 - accuracy: 0.6702 - val_loss: 1.1376 - val_accuracy: 0.5717\n",
      "Epoch 16/30\n",
      "448/448 [==============================] - 163s 364ms/step - loss: 0.8552 - accuracy: 0.6886 - val_loss: 1.1292 - val_accuracy: 0.5873\n",
      "Epoch 17/30\n",
      "448/448 [==============================] - 108s 241ms/step - loss: 0.8176 - accuracy: 0.6996 - val_loss: 1.1328 - val_accuracy: 0.5823\n",
      "Epoch 18/30\n",
      "448/448 [==============================] - 105s 234ms/step - loss: 0.7952 - accuracy: 0.7127 - val_loss: 1.2194 - val_accuracy: 0.5737\n",
      "Epoch 19/30\n",
      "448/448 [==============================] - 107s 238ms/step - loss: 0.7611 - accuracy: 0.7167 - val_loss: 1.1547 - val_accuracy: 0.5898\n",
      "Epoch 20/30\n",
      "448/448 [==============================] - 106s 236ms/step - loss: 0.7095 - accuracy: 0.7376 - val_loss: 1.2116 - val_accuracy: 0.5734\n",
      "Epoch 21/30\n",
      "448/448 [==============================] - 105s 235ms/step - loss: 0.6694 - accuracy: 0.7566 - val_loss: 1.1622 - val_accuracy: 0.5943\n",
      "Epoch 22/30\n",
      "448/448 [==============================] - 106s 236ms/step - loss: 0.6508 - accuracy: 0.7663 - val_loss: 1.1905 - val_accuracy: 0.5946\n",
      "Epoch 23/30\n",
      "448/448 [==============================] - 106s 236ms/step - loss: 0.6047 - accuracy: 0.7837 - val_loss: 1.2249 - val_accuracy: 0.5871\n",
      "Epoch 24/30\n",
      "448/448 [==============================] - 105s 235ms/step - loss: 0.5764 - accuracy: 0.7913 - val_loss: 1.2692 - val_accuracy: 0.5804\n",
      "Epoch 25/30\n",
      "448/448 [==============================] - 106s 236ms/step - loss: 0.5467 - accuracy: 0.8048 - val_loss: 1.2599 - val_accuracy: 0.5949\n",
      "Epoch 26/30\n",
      "448/448 [==============================] - 105s 234ms/step - loss: 0.5139 - accuracy: 0.8104 - val_loss: 1.2793 - val_accuracy: 0.5979\n",
      "Epoch 27/30\n",
      "448/448 [==============================] - 106s 236ms/step - loss: 0.4969 - accuracy: 0.8235 - val_loss: 1.2371 - val_accuracy: 0.6041\n",
      "Epoch 28/30\n",
      "448/448 [==============================] - 106s 236ms/step - loss: 0.4666 - accuracy: 0.8338 - val_loss: 1.2701 - val_accuracy: 0.5884\n",
      "Epoch 29/30\n",
      "448/448 [==============================] - 107s 240ms/step - loss: 0.4506 - accuracy: 0.8404 - val_loss: 1.2636 - val_accuracy: 0.6024\n",
      "Epoch 30/30\n",
      "448/448 [==============================] - 106s 236ms/step - loss: 0.4226 - accuracy: 0.8494 - val_loss: 1.3019 - val_accuracy: 0.6116\n"
     ]
    }
   ],
   "source": [
    "#train the model \n",
    "emotion_model = model_cnn.fit(\n",
    "                train_dataGen,\n",
    "                steps_per_epoch = 28709 // 64,\n",
    "                epochs = 30,\n",
    "                validation_data = teste_dataGen,\n",
    "                validation_steps = 7178 // 64)"
   ]
  },
  {
   "cell_type": "code",
   "execution_count": 11,
   "id": "856808bd",
   "metadata": {},
   "outputs": [
    {
     "name": "stdout",
     "output_type": "stream",
     "text": [
      "898/898 [==============================] - 37s 41ms/step - loss: 0.1984 - accuracy: 0.9409\n",
      "225/225 [==============================] - 10s 46ms/step - loss: 1.3533 - accuracy: 0.6043\n",
      "testing accuracy is 94.08547878265381 train accuracy is 60.43466329574585\n"
     ]
    }
   ],
   "source": [
    "train_loss, train_accu = model_cnn.evaluate(train_dataGen)\n",
    "test_loss, test_accu = model_cnn.evaluate(teste_dataGen)\n",
    "print(f'testing accuracy is {train_accu*100} train accuracy is {test_accu*100}')"
   ]
  },
  {
   "cell_type": "code",
   "execution_count": 15,
   "id": "c52a30e1",
   "metadata": {},
   "outputs": [
    {
     "name": "stderr",
     "output_type": "stream",
     "text": [
      "C:\\Users\\pc\\anaconda3\\lib\\site-packages\\keras_preprocessing\\image\\image_data_generator.py:720: UserWarning: This ImageDataGenerator specifies `featurewise_center`, but it hasn't been fit on any training data. Fit it first by calling `.fit(numpy_data)`.\n",
      "  warnings.warn('This ImageDataGenerator specifies '\n"
     ]
    }
   ],
   "source": [
    "#save model structure to use it after for testing the results's accuracy \n",
    "cnn_json = model_cnn.to_json()\n",
    "with open(\"data/emotion_json_V3.json\", \"w\") as json_file:\n",
    "    json_file.write(cnn_json)\n",
    "json_file.close()\n",
    "    \n",
    "#save the updated weights used in our model \n",
    "model_cnn.save_weights('data/emotion_weights_V3.5')\n",
    "    \n",
    "    \n",
    "############################################\n",
    "\n",
    "from keras.models import model_from_json\n",
    "#the 7 classes:\n",
    "emotions = {0: \"Angry\", 1: \"Disgusted\", 2: \"Fearful\", 3: \"Happy\", 4: \"Neutral\", 5: \"Sad\", 6: \"Surprised\"}\n",
    "\n",
    "#load the model from json file that we have already saved \n",
    "json_model = open(\"data/emotion_json_V3.json\",\"r\")\n",
    "loaded_model = json_model.read()\n",
    "json_model.close()\n",
    "\n",
    "#retrieve the model:\n",
    "emotion_model_loaded = model_from_json(loaded_model)\n",
    "#load the weights \n",
    "emotion_model_loaded.load_weights(\"data/emotion_weights_V3.h5\")\n",
    "# do prediction on test data\n",
    "predictions = emotion_model_loaded.predict(teste_dataGen)\n"
   ]
  },
  {
   "cell_type": "code",
   "execution_count": 16,
   "id": "bb2f32f3",
   "metadata": {},
   "outputs": [
    {
     "name": "stdout",
     "output_type": "stream",
     "text": [
      "[[139   8  91 276 149 194 101]\n",
      " [ 14   2  12  27  21  27   8]\n",
      " [143  15  92 268 168 206 132]\n",
      " [240  21 146 490 260 366 251]\n",
      " [181  23 113 358 187 234 137]\n",
      " [160  12 108 375 177 267 148]\n",
      " [122  10  63 251 138 160  87]]\n"
     ]
    },
    {
     "data": {
      "image/png": "[encoded data removed]",
      "text/plain": [
       "<Figure size 432x288 with 2 Axes>"
      ]
     },
     "metadata": {
      "needs_background": "light"
     },
     "output_type": "display_data"
    }
   ],
   "source": [
    "from sklearn.metrics import confusion_matrix, ConfusionMatrixDisplay\n",
    "import matplotlib.pyplot as plt\n",
    "c_matrix = confusion_matrix(teste_dataGen.classes, predictions.argmax(axis=1))\n",
    "print(c_matrix)\n",
    "cm_display = ConfusionMatrixDisplay(confusion_matrix=c_matrix, display_labels=emotions)\n",
    "cm_display.plot(cmap=plt.cm.Blues)\n",
    "plt.show()"
   ]
  }
 ],
 "metadata": {
  "kernelspec": {
   "display_name": "Python 3 (ipykernel)",
   "language": "python",
   "name": "python3"
  },
  "language_info": {
   "codemirror_mode": {
    "name": "ipython",
    "version": 3
   },
   "file_extension": ".py",
   "mimetype": "text/x-python",
   "name": "python",
   "nbconvert_exporter": "python",
   "pygments_lexer": "ipython3",
   "version": "3.9.7"
  }
 },
 "nbformat": 4,
 "nbformat_minor": 5
}
